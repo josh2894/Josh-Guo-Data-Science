{
 "cells": [
  {
   "cell_type": "code",
   "execution_count": null,
   "id": "12eddae3-2308-4139-836b-163a80a56414",
   "metadata": {
    "tags": []
   },
   "outputs": [],
   "source": [
    "pip install jupyter_dash"
   ]
  },
  {
   "cell_type": "code",
   "execution_count": null,
   "id": "a19f5383-7ee5-4079-81c6-0a50f55f1367",
   "metadata": {
    "tags": []
   },
   "outputs": [],
   "source": [
    "pip install dash_bootstrap_components"
   ]
  },
  {
   "cell_type": "code",
   "execution_count": 2,
   "id": "f4d9d3c1-d5cd-435e-a07b-ece532b7a324",
   "metadata": {
    "tags": []
   },
   "outputs": [],
   "source": [
    "import pandas as pd\n",
    "import dash\n",
    "from dash import Dash\n",
    "from dash import jupyter_dash\n",
    "import dash_html_components as html\n",
    "import dash_core_components as dcc\n",
    "from dash.dependencies import Input, Output\n",
    "import plotly.express as px\n",
    "import dash_bootstrap_components as dbc"
   ]
  },
  {
   "cell_type": "code",
   "execution_count": 9,
   "id": "df094a4e-59a3-46d4-80f9-bf582e674699",
   "metadata": {
    "tags": []
   },
   "outputs": [],
   "source": [
    "df = pd.read_csv(r\"C:\\Users\\joe\\Josh-Guo-Data-Science\\Foods Project\\foods_df.csv\")"
   ]
  },
  {
   "cell_type": "code",
   "execution_count": null,
   "id": "ad0de601-61fc-4e29-ae0e-9344a3e9073a",
   "metadata": {
    "tags": []
   },
   "outputs": [],
   "source": [
    "app = dash.Dash(external_stylesheets=[dbc.themes.LUMEN])\n",
    "options_list = list(df.columns[1:])\n",
    "\n",
    "app.layout = dbc.Container([\n",
    "    dbc.Row([\n",
    "        dbc.Col(html.H1(\"Ingredients & Cuisines Dashboard\", style={\"font-size\":60, \"textAlign\":\"center\"},),),\n",
    "            ]),\n",
    "    html.Br(),\n",
    "    dbc.Row([dbc.Col(html.H1(\"Cuisine\"), width=\"auto\"\n",
    "                    ),\n",
    "            dbc.Col(\n",
    "            dcc.Dropdown(\n",
    "                id=\"cuisine_dropdown\",\n",
    "                options=[{'label': option, 'value':option} for option in list(df[\"cuisine\"].unique())],\n",
    "                searchable=True,\n",
    "                placeholder=\"Select A Cuisine\",\n",
    "                        ), align=\"center\"\n",
    "                    )    \n",
    "            ]),\n",
    "    \n",
    "    dbc.Row([dbc.Col(\n",
    "             dcc.Graph(id=\"cuisine_ingredient_usage\"),\n",
    "                    ),\n",
    "            ]),   \n",
    "    \n",
    "    html.Br(),\n",
    "    # Input for graph with most common cuisines for an ingredient\n",
    "    dbc.Row([dbc.Col(html.H1(\"Ingredients\"), width=\"auto\"\n",
    "                    ),\n",
    "            dbc.Col(\n",
    "            dcc.Dropdown(\n",
    "                id=\"ingredient_dropdown\",\n",
    "                options=[{'label': option, 'value': option} for option in options_list],\n",
    "                multi=True,\n",
    "                searchable=True,\n",
    "                placeholder=\"Select Any Ingredients\",\n",
    "                        ),\n",
    "            width=8, align=\"center\"\n",
    "                    )\n",
    "            ]),\n",
    "    # Output for graph with most common cuisines for an ingredient\n",
    "    dbc.Row([dbc.Col(\n",
    "            dcc.Graph(id=\"ingredient_most_used_cuisine\"),\n",
    "                    )\n",
    "            ])\n",
    "])\n",
    "@app.callback(Output(component_id=\"ingredient_most_used_cuisine\", component_property=\"figure\"),\n",
    "              Input(component_id=\"ingredient_dropdown\", component_property=\"value\"))\n",
    "def ingredient_top_cuisines(ingredient_list):\n",
    "    ingredient_list.append(\"cuisine\") # So the cuisine column is inlcluded\n",
    "    ingredient_df = df[ingredient_list]\n",
    "    # Using sum to get dishes with all the ingredients. The -1 accounts for \"cuisine\" being in the list\n",
    "    ingredient_df = ingredient_df[ingredient_df.iloc[:, 0:-1].sum(axis=1) == len(ingredient_list) - 1]\n",
    "    ingredient_df = pd.DataFrame(ingredient_df.groupby(\"cuisine\")[\"cuisine\"].count().sort_values(ascending=False))\n",
    "    # Making the bar chart based on ingredient_df\n",
    "    fig = px.histogram(ingredient_df, x=ingredient_df.index, y=\"cuisine\", title=\"Most Common Cuisines for Chosen Ingredients\",\n",
    "                       labels={\"index\":\"Cuisine\"}, color_discrete_sequence=[\"#00d8d8\"])\n",
    "    fig.update_layout(xaxis_title=\"Cuisines\", yaxis_title=\"Amount of Dishes\")\n",
    "    fig.for_each_trace(lambda t: t.update(hovertemplate=t.hovertemplate.replace(\"sum of cuisine\", \"Count\")))\n",
    "    fig.update_traces(marker_line_width=1.2, marker_line_color=\"black\")\n",
    "    return fig\n",
    "\n",
    "@app.callback(Output(component_id=\"cuisine_ingredient_usage\", component_property=\"figure\"),\n",
    "              Input(component_id=\"cuisine_dropdown\", component_property=\"value\"))\n",
    "def unique_ingredients(cuisine):\n",
    "    unique_ingredients_list = [] # This list will take in the count of ingredients for each usage amount\n",
    "    cuisine_dishes = df[df[\"cuisine\"] == cuisine]\n",
    "    \n",
    "    for i in range(0, 65, 5):\n",
    "        ingredients = cuisine_dishes.iloc[:, 1:].sum(axis=0) > i # Returns a series where each ingredient is True/False\n",
    "        ingredients_count = ingredients.sum() # Summing the Trues gives the amount of ingredients passing the condition\n",
    "        unique_ingredients_list.append(ingredients_count)\n",
    "    \n",
    "    # The dataframe made from this dictionary has the usage amount in one column and the count in the other\n",
    "    unique_ingredients_dict = {\"usage\": [str(num) + \"+\" for num in list(range(0, 65, 5))], \"ingredients_count\": unique_ingredients_list}\n",
    "    unique_df = pd.DataFrame(unique_ingredients_dict)\n",
    "    \n",
    "    # Making a bar graph from the dataframe\n",
    "    fig = px.histogram(unique_df, x=\"usage\", y=\"ingredients_count\", title=\"Unique \" + cuisine.title() + \" Ingredients By Usage Amount\")\n",
    "    fig.update_layout(xaxis_title=\"Usage Amount\", yaxis_title=\"Ingredients Count\")\n",
    "    fig.for_each_trace(lambda t: t.update(hovertemplate=t.hovertemplate.replace(\"sum of ingredients_count\", \"ingredients\")))\n",
    "    fig.update_traces(marker_line_width=1.2, marker_line_color=\"black\")\n",
    "    return fig\n",
    "\n",
    "\n",
    "if __name__ == \"__main__\":\n",
    "    app.run_server(jupyter_mode=\"external\")"
   ]
  },
  {
   "cell_type": "code",
   "execution_count": null,
   "id": "f65ab824-3d2a-4ab3-8214-e577f0b6eee1",
   "metadata": {},
   "outputs": [],
   "source": []
  }
 ],
 "metadata": {
  "kernelspec": {
   "display_name": "Python 3 (ipykernel)",
   "language": "python",
   "name": "python3"
  },
  "language_info": {
   "codemirror_mode": {
    "name": "ipython",
    "version": 3
   },
   "file_extension": ".py",
   "mimetype": "text/x-python",
   "name": "python",
   "nbconvert_exporter": "python",
   "pygments_lexer": "ipython3",
   "version": "3.11.3"
  }
 },
 "nbformat": 4,
 "nbformat_minor": 5
}
