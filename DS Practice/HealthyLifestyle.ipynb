{
 "cells": [
  {
   "cell_type": "code",
   "execution_count": null,
   "id": "154e3b2d-e894-487a-9a1f-7dfac023021e",
   "metadata": {
    "tags": []
   },
   "outputs": [],
   "source": [
    "!pip install pandas\n",
    "!pip install seaborn\n",
    "!pip install matplotlib\n",
    "!pip install numpy\n",
    "!pip install scipy\n",
    "!pip install plotly"
   ]
  },
  {
   "cell_type": "code",
   "execution_count": 2,
   "id": "d19d8333-45c6-4a64-b2a3-db30ca05c633",
   "metadata": {
    "tags": []
   },
   "outputs": [],
   "source": [
    "import matplotlib.pyplot as plt, pandas as pd, seaborn as sns, numpy as np, scipy.stats, plotly.express as px"
   ]
  },
  {
   "cell_type": "code",
   "execution_count": 3,
   "id": "75289e7c-8642-4436-a1c3-b4c7f709a299",
   "metadata": {
    "tags": []
   },
   "outputs": [],
   "source": [
    "healthy_lifestyle_csv = r\"C:\\Users\\jj021\\Desktop\\DataScience\\HealthyLifestyle.csv\""
   ]
  },
  {
   "cell_type": "markdown",
   "id": "226648b7-041e-48bd-b7ae-5d2271b9189e",
   "metadata": {},
   "source": [
    "## What The Dataset Looks Like"
   ]
  },
  {
   "cell_type": "code",
   "execution_count": 4,
   "id": "24a619e3-01c6-4b28-9b48-951c529fb1f7",
   "metadata": {
    "tags": []
   },
   "outputs": [
    {
     "name": "stdout",
     "output_type": "stream",
     "text": [
      "(44, 12)\n"
     ]
    },
    {
     "data": {
      "text/html": [
       "<div>\n",
       "<style scoped>\n",
       "    .dataframe tbody tr th:only-of-type {\n",
       "        vertical-align: middle;\n",
       "    }\n",
       "\n",
       "    .dataframe tbody tr th {\n",
       "        vertical-align: top;\n",
       "    }\n",
       "\n",
       "    .dataframe thead th {\n",
       "        text-align: right;\n",
       "    }\n",
       "</style>\n",
       "<table border=\"1\" class=\"dataframe\">\n",
       "  <thead>\n",
       "    <tr style=\"text-align: right;\">\n",
       "      <th></th>\n",
       "      <th>City</th>\n",
       "      <th>Rank</th>\n",
       "      <th>Sunshine hours(City)</th>\n",
       "      <th>Cost of a bottle of water(City)</th>\n",
       "      <th>Obesity levels(Country)</th>\n",
       "      <th>Life expectancy(years) (Country)</th>\n",
       "      <th>Pollution(Index score) (City)</th>\n",
       "      <th>Annual avg. hours worked</th>\n",
       "      <th>Happiness levels(Country)</th>\n",
       "      <th>Outdoor activities(City)</th>\n",
       "      <th>Number of take out places(City)</th>\n",
       "      <th>Cost of a monthly gym membership(City)</th>\n",
       "    </tr>\n",
       "  </thead>\n",
       "  <tbody>\n",
       "    <tr>\n",
       "      <th>0</th>\n",
       "      <td>Amsterdam</td>\n",
       "      <td>1</td>\n",
       "      <td>1858</td>\n",
       "      <td>£1.92</td>\n",
       "      <td>20.40%</td>\n",
       "      <td>81.2</td>\n",
       "      <td>30.93</td>\n",
       "      <td>1434</td>\n",
       "      <td>7.44</td>\n",
       "      <td>422</td>\n",
       "      <td>1048</td>\n",
       "      <td>£34.90</td>\n",
       "    </tr>\n",
       "    <tr>\n",
       "      <th>1</th>\n",
       "      <td>Sydney</td>\n",
       "      <td>2</td>\n",
       "      <td>2636</td>\n",
       "      <td>£1.48</td>\n",
       "      <td>29.00%</td>\n",
       "      <td>82.1</td>\n",
       "      <td>26.86</td>\n",
       "      <td>1712</td>\n",
       "      <td>7.22</td>\n",
       "      <td>406</td>\n",
       "      <td>1103</td>\n",
       "      <td>£41.66</td>\n",
       "    </tr>\n",
       "    <tr>\n",
       "      <th>2</th>\n",
       "      <td>Vienna</td>\n",
       "      <td>3</td>\n",
       "      <td>1884</td>\n",
       "      <td>£1.94</td>\n",
       "      <td>20.10%</td>\n",
       "      <td>81.0</td>\n",
       "      <td>17.33</td>\n",
       "      <td>1501</td>\n",
       "      <td>7.29</td>\n",
       "      <td>132</td>\n",
       "      <td>1008</td>\n",
       "      <td>£25.74</td>\n",
       "    </tr>\n",
       "    <tr>\n",
       "      <th>3</th>\n",
       "      <td>Stockholm</td>\n",
       "      <td>4</td>\n",
       "      <td>1821</td>\n",
       "      <td>£1.72</td>\n",
       "      <td>20.60%</td>\n",
       "      <td>81.8</td>\n",
       "      <td>19.63</td>\n",
       "      <td>1452</td>\n",
       "      <td>7.35</td>\n",
       "      <td>129</td>\n",
       "      <td>598</td>\n",
       "      <td>£37.31</td>\n",
       "    </tr>\n",
       "    <tr>\n",
       "      <th>4</th>\n",
       "      <td>Copenhagen</td>\n",
       "      <td>5</td>\n",
       "      <td>1630</td>\n",
       "      <td>£2.19</td>\n",
       "      <td>19.70%</td>\n",
       "      <td>79.8</td>\n",
       "      <td>21.24</td>\n",
       "      <td>1380</td>\n",
       "      <td>7.64</td>\n",
       "      <td>154</td>\n",
       "      <td>523</td>\n",
       "      <td>£32.53</td>\n",
       "    </tr>\n",
       "  </tbody>\n",
       "</table>\n",
       "</div>"
      ],
      "text/plain": [
       "         City  Rank Sunshine hours(City) Cost of a bottle of water(City)  \\\n",
       "0   Amsterdam     1                 1858                           £1.92   \n",
       "1      Sydney     2                 2636                           £1.48   \n",
       "2      Vienna     3                 1884                           £1.94   \n",
       "3   Stockholm     4                 1821                           £1.72   \n",
       "4  Copenhagen     5                 1630                           £2.19   \n",
       "\n",
       "  Obesity levels(Country)  Life expectancy(years) (Country)  \\\n",
       "0                  20.40%                              81.2   \n",
       "1                  29.00%                              82.1   \n",
       "2                  20.10%                              81.0   \n",
       "3                  20.60%                              81.8   \n",
       "4                  19.70%                              79.8   \n",
       "\n",
       "  Pollution(Index score) (City) Annual avg. hours worked  \\\n",
       "0                         30.93                     1434   \n",
       "1                         26.86                     1712   \n",
       "2                         17.33                     1501   \n",
       "3                         19.63                     1452   \n",
       "4                         21.24                     1380   \n",
       "\n",
       "   Happiness levels(Country)  Outdoor activities(City)  \\\n",
       "0                       7.44                       422   \n",
       "1                       7.22                       406   \n",
       "2                       7.29                       132   \n",
       "3                       7.35                       129   \n",
       "4                       7.64                       154   \n",
       "\n",
       "   Number of take out places(City) Cost of a monthly gym membership(City)  \n",
       "0                             1048                                 £34.90  \n",
       "1                             1103                                 £41.66  \n",
       "2                             1008                                 £25.74  \n",
       "3                              598                                 £37.31  \n",
       "4                              523                                 £32.53  "
      ]
     },
     "execution_count": 4,
     "metadata": {},
     "output_type": "execute_result"
    }
   ],
   "source": [
    "df = pd.read_csv(healthy_lifestyle_csv)\n",
    "print(df.shape)\n",
    "df.head()"
   ]
  },
  {
   "cell_type": "markdown",
   "id": "1be9dd3e-f64f-437c-98c5-f85b344bb758",
   "metadata": {},
   "source": [
    "## Changing Messy Column Names"
   ]
  },
  {
   "cell_type": "code",
   "execution_count": 5,
   "id": "a8ad5fd7-e9a2-4e8b-93a6-ae1f83966c08",
   "metadata": {},
   "outputs": [
    {
     "data": {
      "text/html": [
       "<div>\n",
       "<style scoped>\n",
       "    .dataframe tbody tr th:only-of-type {\n",
       "        vertical-align: middle;\n",
       "    }\n",
       "\n",
       "    .dataframe tbody tr th {\n",
       "        vertical-align: top;\n",
       "    }\n",
       "\n",
       "    .dataframe thead th {\n",
       "        text-align: right;\n",
       "    }\n",
       "</style>\n",
       "<table border=\"1\" class=\"dataframe\">\n",
       "  <thead>\n",
       "    <tr style=\"text-align: right;\">\n",
       "      <th></th>\n",
       "      <th>city</th>\n",
       "      <th>rank</th>\n",
       "      <th>sunshine_hours</th>\n",
       "      <th>bottled_water_cost</th>\n",
       "      <th>obesity_percent</th>\n",
       "      <th>life_expectancy</th>\n",
       "      <th>pollution_index</th>\n",
       "      <th>avg_hours_worked</th>\n",
       "      <th>happiness_levels</th>\n",
       "      <th>outdoor_activities</th>\n",
       "      <th>takeout_places</th>\n",
       "      <th>gym_cost</th>\n",
       "    </tr>\n",
       "  </thead>\n",
       "  <tbody>\n",
       "    <tr>\n",
       "      <th>0</th>\n",
       "      <td>Amsterdam</td>\n",
       "      <td>1</td>\n",
       "      <td>1858</td>\n",
       "      <td>£1.92</td>\n",
       "      <td>20.40%</td>\n",
       "      <td>81.2</td>\n",
       "      <td>30.93</td>\n",
       "      <td>1434</td>\n",
       "      <td>7.44</td>\n",
       "      <td>422</td>\n",
       "      <td>1048</td>\n",
       "      <td>£34.90</td>\n",
       "    </tr>\n",
       "    <tr>\n",
       "      <th>1</th>\n",
       "      <td>Sydney</td>\n",
       "      <td>2</td>\n",
       "      <td>2636</td>\n",
       "      <td>£1.48</td>\n",
       "      <td>29.00%</td>\n",
       "      <td>82.1</td>\n",
       "      <td>26.86</td>\n",
       "      <td>1712</td>\n",
       "      <td>7.22</td>\n",
       "      <td>406</td>\n",
       "      <td>1103</td>\n",
       "      <td>£41.66</td>\n",
       "    </tr>\n",
       "    <tr>\n",
       "      <th>2</th>\n",
       "      <td>Vienna</td>\n",
       "      <td>3</td>\n",
       "      <td>1884</td>\n",
       "      <td>£1.94</td>\n",
       "      <td>20.10%</td>\n",
       "      <td>81.0</td>\n",
       "      <td>17.33</td>\n",
       "      <td>1501</td>\n",
       "      <td>7.29</td>\n",
       "      <td>132</td>\n",
       "      <td>1008</td>\n",
       "      <td>£25.74</td>\n",
       "    </tr>\n",
       "    <tr>\n",
       "      <th>3</th>\n",
       "      <td>Stockholm</td>\n",
       "      <td>4</td>\n",
       "      <td>1821</td>\n",
       "      <td>£1.72</td>\n",
       "      <td>20.60%</td>\n",
       "      <td>81.8</td>\n",
       "      <td>19.63</td>\n",
       "      <td>1452</td>\n",
       "      <td>7.35</td>\n",
       "      <td>129</td>\n",
       "      <td>598</td>\n",
       "      <td>£37.31</td>\n",
       "    </tr>\n",
       "    <tr>\n",
       "      <th>4</th>\n",
       "      <td>Copenhagen</td>\n",
       "      <td>5</td>\n",
       "      <td>1630</td>\n",
       "      <td>£2.19</td>\n",
       "      <td>19.70%</td>\n",
       "      <td>79.8</td>\n",
       "      <td>21.24</td>\n",
       "      <td>1380</td>\n",
       "      <td>7.64</td>\n",
       "      <td>154</td>\n",
       "      <td>523</td>\n",
       "      <td>£32.53</td>\n",
       "    </tr>\n",
       "  </tbody>\n",
       "</table>\n",
       "</div>"
      ],
      "text/plain": [
       "         city  rank sunshine_hours bottled_water_cost obesity_percent  \\\n",
       "0   Amsterdam     1           1858              £1.92          20.40%   \n",
       "1      Sydney     2           2636              £1.48          29.00%   \n",
       "2      Vienna     3           1884              £1.94          20.10%   \n",
       "3   Stockholm     4           1821              £1.72          20.60%   \n",
       "4  Copenhagen     5           1630              £2.19          19.70%   \n",
       "\n",
       "   life_expectancy pollution_index avg_hours_worked  happiness_levels  \\\n",
       "0             81.2           30.93             1434              7.44   \n",
       "1             82.1           26.86             1712              7.22   \n",
       "2             81.0           17.33             1501              7.29   \n",
       "3             81.8           19.63             1452              7.35   \n",
       "4             79.8           21.24             1380              7.64   \n",
       "\n",
       "   outdoor_activities  takeout_places gym_cost  \n",
       "0                 422            1048   £34.90  \n",
       "1                 406            1103   £41.66  \n",
       "2                 132            1008   £25.74  \n",
       "3                 129             598   £37.31  \n",
       "4                 154             523   £32.53  "
      ]
     },
     "execution_count": 5,
     "metadata": {},
     "output_type": "execute_result"
    }
   ],
   "source": [
    "df.columns = [\"city\", \"rank\", \"sunshine_hours\", \"bottled_water_cost\", \"obesity_percent\", \"life_expectancy\", \"pollution_index\", \"avg_hours_worked\", \"happiness_levels\", \"outdoor_activities\", \"takeout_places\", \"gym_cost\"]\n",
    "df.head()"
   ]
  },
  {
   "cell_type": "markdown",
   "id": "5d82b6bb-4aed-4af8-b2a6-599ad6efb07b",
   "metadata": {},
   "source": [
    "## Checking Data Types"
   ]
  },
  {
   "cell_type": "code",
   "execution_count": 6,
   "id": "92995483-fd3b-4906-80f4-280ab7ec7558",
   "metadata": {
    "tags": []
   },
   "outputs": [
    {
     "data": {
      "text/plain": [
       "city                   object\n",
       "rank                    int64\n",
       "sunshine_hours         object\n",
       "bottled_water_cost     object\n",
       "obesity_percent        object\n",
       "life_expectancy       float64\n",
       "pollution_index        object\n",
       "avg_hours_worked       object\n",
       "happiness_levels      float64\n",
       "outdoor_activities      int64\n",
       "takeout_places          int64\n",
       "gym_cost               object\n",
       "dtype: object"
      ]
     },
     "execution_count": 6,
     "metadata": {},
     "output_type": "execute_result"
    }
   ],
   "source": [
    "df.dtypes"
   ]
  },
  {
   "cell_type": "markdown",
   "id": "d4f557e0-da65-4633-8189-3675cc928c6e",
   "metadata": {},
   "source": [
    "## Checking For Missing Data"
   ]
  },
  {
   "cell_type": "markdown",
   "id": "293af0f2-c424-4ca3-a93e-481002b8549b",
   "metadata": {},
   "source": [
    "In this dataset, missing values are represented by \"-\" so I will replace them with NaN"
   ]
  },
  {
   "cell_type": "code",
   "execution_count": 7,
   "id": "c10a5896-41e4-4fe8-ab81-b15545a5dc3e",
   "metadata": {
    "tags": []
   },
   "outputs": [],
   "source": [
    "df.replace(\"-\", np.nan, inplace=True)"
   ]
  },
  {
   "cell_type": "code",
   "execution_count": 8,
   "id": "e3251656-3578-4236-8c46-a7e64332f3fe",
   "metadata": {
    "tags": []
   },
   "outputs": [
    {
     "name": "stdout",
     "output_type": "stream",
     "text": [
      "city\n",
      "city\n",
      "False    44\n",
      "Name: count, dtype: int64\n",
      "\n",
      "rank\n",
      "rank\n",
      "False    44\n",
      "Name: count, dtype: int64\n",
      "\n",
      "sunshine_hours\n",
      "sunshine_hours\n",
      "False    43\n",
      "True      1\n",
      "Name: count, dtype: int64\n",
      "\n",
      "bottled_water_cost\n",
      "bottled_water_cost\n",
      "False    44\n",
      "Name: count, dtype: int64\n",
      "\n",
      "obesity_percent\n",
      "obesity_percent\n",
      "False    44\n",
      "Name: count, dtype: int64\n",
      "\n",
      "life_expectancy\n",
      "life_expectancy\n",
      "False    44\n",
      "Name: count, dtype: int64\n",
      "\n",
      "pollution_index\n",
      "pollution_index\n",
      "False    43\n",
      "True      1\n",
      "Name: count, dtype: int64\n",
      "\n",
      "avg_hours_worked\n",
      "avg_hours_worked\n",
      "False    33\n",
      "True     11\n",
      "Name: count, dtype: int64\n",
      "\n",
      "happiness_levels\n",
      "happiness_levels\n",
      "False    44\n",
      "Name: count, dtype: int64\n",
      "\n",
      "outdoor_activities\n",
      "outdoor_activities\n",
      "False    44\n",
      "Name: count, dtype: int64\n",
      "\n",
      "takeout_places\n",
      "takeout_places\n",
      "False    44\n",
      "Name: count, dtype: int64\n",
      "\n",
      "gym_cost\n",
      "gym_cost\n",
      "False    44\n",
      "Name: count, dtype: int64\n",
      "\n"
     ]
    }
   ],
   "source": [
    "df_missing_values = df.isnull()\n",
    "for column in df_missing_values.columns.values.tolist():\n",
    "    print(column)\n",
    "    print(df_missing_values[column].value_counts())\n",
    "    print()"
   ]
  },
  {
   "cell_type": "markdown",
   "id": "e190e857-0d00-4f59-ad10-cf6b9be357a7",
   "metadata": {},
   "source": [
    "## Dealing With Missing Data\n",
    "There is no need to drop any rows or columns here. I will replace the missing values with the averages of their columns"
   ]
  },
  {
   "cell_type": "code",
   "execution_count": 9,
   "id": "761d2212-aa8f-4478-a911-dc4b249e7a15",
   "metadata": {
    "tags": []
   },
   "outputs": [],
   "source": [
    "sunshine_hours_average = df[\"sunshine_hours\"].astype(\"float\").mean()\n",
    "df[\"sunshine_hours\"].replace(np.nan, sunshine_hours_average, inplace=True)\n",
    "\n",
    "pollution_index_average = df[\"pollution_index\"].astype(\"float\").mean()\n",
    "df[\"pollution_index\"].replace(np.nan, pollution_index_average, inplace=True)\n",
    "\n",
    "hours_worked_average = df[\"avg_hours_worked\"].astype(\"float\").mean()\n",
    "df[\"avg_hours_worked\"].replace(np.nan, hours_worked_average, inplace=True)"
   ]
  },
  {
   "cell_type": "markdown",
   "id": "9839d29d-9098-407d-a3a7-9527c46e5a04",
   "metadata": {
    "tags": []
   },
   "source": [
    "## Changing Data Types\n",
    "I want to change the object columns (except City) to integers and floats"
   ]
  },
  {
   "cell_type": "code",
   "execution_count": 10,
   "id": "8abbfffd-2ed9-4260-8ce8-e20ecb7e90a8",
   "metadata": {},
   "outputs": [],
   "source": [
    "df[\"sunshine_hours\"] = df[\"sunshine_hours\"].astype(\"int\")\n",
    "df[\"pollution_index\"] = df[\"pollution_index\"].astype(\"float\")\n",
    "df[\"avg_hours_worked\"] = df[\"avg_hours_worked\"].astype(\"int\")"
   ]
  },
  {
   "cell_type": "markdown",
   "id": "eea9f968-a875-41f1-84fc-23c4e1fa0bbe",
   "metadata": {},
   "source": [
    "The columns with euros signs and percent symbols will need extra work. I will first get rid of the symbols, then cast to float"
   ]
  },
  {
   "cell_type": "code",
   "execution_count": 11,
   "id": "f3d6df52-d48b-4af2-8825-e7df1d4c8d47",
   "metadata": {},
   "outputs": [],
   "source": [
    "# Removing euros sign\n",
    "df[\"bottled_water_cost\"].replace(\"£\", \"\", regex=True, inplace=True)\n",
    "df[\"gym_cost\"].replace(\"£\", \"\", regex=True, inplace=True)\n",
    "# Removing percent symbol\n",
    "df[\"obesity_percent\"].replace(\"%\", \"\", regex=True, inplace=True)\n",
    "\n",
    "# Casting to float\n",
    "df[\"bottled_water_cost\"] = df[\"bottled_water_cost\"].astype(\"float\")\n",
    "df[\"gym_cost\"] = df[\"gym_cost\"].astype(\"float\")\n",
    "df[\"obesity_percent\"] = df[\"obesity_percent\"].astype(\"float\")"
   ]
  },
  {
   "cell_type": "markdown",
   "id": "0c505bf0-5a20-4786-8a0e-045a00f121ff",
   "metadata": {},
   "source": [
    "## Currency Conversions and Renaming Columns"
   ]
  },
  {
   "cell_type": "markdown",
   "id": "d8d725c0-86c7-446f-b6b1-c92e3aec1de3",
   "metadata": {},
   "source": [
    "I want to change the convert the columns using euros to using USD"
   ]
  },
  {
   "cell_type": "code",
   "execution_count": 12,
   "id": "e74729c9-0893-4d01-8858-b36286e0aff7",
   "metadata": {},
   "outputs": [],
   "source": [
    "df[\"bottled_water_cost\"] = df[\"bottled_water_cost\"] * 1.07\n",
    "df[\"gym_cost\"] = df[\"gym_cost\"] * 1.07"
   ]
  },
  {
   "cell_type": "code",
   "execution_count": 13,
   "id": "55248e18-c81a-45a6-af11-8535d71ab4d4",
   "metadata": {},
   "outputs": [],
   "source": [
    "# Round the amounts to 2 digits after the decimal\n",
    "df[\"bottled_water_cost\"] = df[\"bottled_water_cost\"].round(2)\n",
    "df[\"gym_cost\"] = df[\"gym_cost\"].round(2)"
   ]
  },
  {
   "cell_type": "markdown",
   "id": "6c37d45f-543a-4d78-a3e2-2f9779919154",
   "metadata": {},
   "source": [
    "I will rename some columns to make them more clear"
   ]
  },
  {
   "cell_type": "code",
   "execution_count": 14,
   "id": "92fb05f6-b0f9-450e-b3cc-216d44004067",
   "metadata": {},
   "outputs": [],
   "source": [
    "df.rename(columns = {\"bottled_water_cost\" : \"bottled_water_cost_usd\", \"gym_cost\" : \"gym_cost_usd\"}, inplace=True)\n",
    "                     "
   ]
  },
  {
   "cell_type": "markdown",
   "id": "048b1ffb-5dcd-4d58-8d6c-86d25b8eb502",
   "metadata": {},
   "source": [
    "## Binning With Rank"
   ]
  },
  {
   "cell_type": "markdown",
   "id": "5a833991-4aac-49dd-93bc-8bd84fab8986",
   "metadata": {},
   "source": [
    "It wll be helpful to split up the rankings into tiers to analyze what the differences are between top ranking cities and low ranking cities"
   ]
  },
  {
   "cell_type": "code",
   "execution_count": 50,
   "id": "8f5f08a7-fed3-40a7-990f-67fe2d36a5e0",
   "metadata": {},
   "outputs": [],
   "source": [
    "ranking_tiers = np.linspace(0, 44, 5)\n",
    "tiers_names = [\"rank_1-11\", \"rank_12-22\", \"rank_23-33\", \"rank_34-44\"]\n",
    "df[\"rank_tiers\"] = pd.cut(df[\"rank\"], ranking_tiers, labels=tiers_names, include_lowest=True)"
   ]
  },
  {
   "cell_type": "markdown",
   "id": "45a35803-aef3-436f-9940-093db070ae80",
   "metadata": {},
   "source": [
    "## Dataset After Cleaning"
   ]
  },
  {
   "cell_type": "markdown",
   "id": "48e6cbc1-a09b-4ec2-844e-3259edb80a01",
   "metadata": {},
   "source": [
    "#### First 5 rows"
   ]
  },
  {
   "cell_type": "code",
   "execution_count": 53,
   "id": "253756e8-f451-41b8-af69-69b0a36c604e",
   "metadata": {},
   "outputs": [
    {
     "data": {
      "text/html": [
       "<div>\n",
       "<style scoped>\n",
       "    .dataframe tbody tr th:only-of-type {\n",
       "        vertical-align: middle;\n",
       "    }\n",
       "\n",
       "    .dataframe tbody tr th {\n",
       "        vertical-align: top;\n",
       "    }\n",
       "\n",
       "    .dataframe thead th {\n",
       "        text-align: right;\n",
       "    }\n",
       "</style>\n",
       "<table border=\"1\" class=\"dataframe\">\n",
       "  <thead>\n",
       "    <tr style=\"text-align: right;\">\n",
       "      <th></th>\n",
       "      <th>city</th>\n",
       "      <th>rank</th>\n",
       "      <th>sunshine_hours</th>\n",
       "      <th>bottled_water_cost_usd</th>\n",
       "      <th>obesity_percent</th>\n",
       "      <th>life_expectancy</th>\n",
       "      <th>pollution_index</th>\n",
       "      <th>avg_hours_worked</th>\n",
       "      <th>happiness_levels</th>\n",
       "      <th>outdoor_activities</th>\n",
       "      <th>takeout_places</th>\n",
       "      <th>gym_cost_usd</th>\n",
       "      <th>rank_tiers</th>\n",
       "    </tr>\n",
       "  </thead>\n",
       "  <tbody>\n",
       "    <tr>\n",
       "      <th>0</th>\n",
       "      <td>Amsterdam</td>\n",
       "      <td>1</td>\n",
       "      <td>1858</td>\n",
       "      <td>2.05</td>\n",
       "      <td>20.4</td>\n",
       "      <td>81.2</td>\n",
       "      <td>30.93</td>\n",
       "      <td>1434</td>\n",
       "      <td>7.44</td>\n",
       "      <td>422</td>\n",
       "      <td>1048</td>\n",
       "      <td>37.34</td>\n",
       "      <td>rank_1-11</td>\n",
       "    </tr>\n",
       "    <tr>\n",
       "      <th>1</th>\n",
       "      <td>Sydney</td>\n",
       "      <td>2</td>\n",
       "      <td>2636</td>\n",
       "      <td>1.58</td>\n",
       "      <td>29.0</td>\n",
       "      <td>82.1</td>\n",
       "      <td>26.86</td>\n",
       "      <td>1712</td>\n",
       "      <td>7.22</td>\n",
       "      <td>406</td>\n",
       "      <td>1103</td>\n",
       "      <td>44.58</td>\n",
       "      <td>rank_1-11</td>\n",
       "    </tr>\n",
       "    <tr>\n",
       "      <th>2</th>\n",
       "      <td>Vienna</td>\n",
       "      <td>3</td>\n",
       "      <td>1884</td>\n",
       "      <td>2.08</td>\n",
       "      <td>20.1</td>\n",
       "      <td>81.0</td>\n",
       "      <td>17.33</td>\n",
       "      <td>1501</td>\n",
       "      <td>7.29</td>\n",
       "      <td>132</td>\n",
       "      <td>1008</td>\n",
       "      <td>27.54</td>\n",
       "      <td>rank_1-11</td>\n",
       "    </tr>\n",
       "    <tr>\n",
       "      <th>3</th>\n",
       "      <td>Stockholm</td>\n",
       "      <td>4</td>\n",
       "      <td>1821</td>\n",
       "      <td>1.84</td>\n",
       "      <td>20.6</td>\n",
       "      <td>81.8</td>\n",
       "      <td>19.63</td>\n",
       "      <td>1452</td>\n",
       "      <td>7.35</td>\n",
       "      <td>129</td>\n",
       "      <td>598</td>\n",
       "      <td>39.92</td>\n",
       "      <td>rank_1-11</td>\n",
       "    </tr>\n",
       "    <tr>\n",
       "      <th>4</th>\n",
       "      <td>Copenhagen</td>\n",
       "      <td>5</td>\n",
       "      <td>1630</td>\n",
       "      <td>2.34</td>\n",
       "      <td>19.7</td>\n",
       "      <td>79.8</td>\n",
       "      <td>21.24</td>\n",
       "      <td>1380</td>\n",
       "      <td>7.64</td>\n",
       "      <td>154</td>\n",
       "      <td>523</td>\n",
       "      <td>34.81</td>\n",
       "      <td>rank_1-11</td>\n",
       "    </tr>\n",
       "  </tbody>\n",
       "</table>\n",
       "</div>"
      ],
      "text/plain": [
       "         city  rank  sunshine_hours  bottled_water_cost_usd  obesity_percent  \\\n",
       "0   Amsterdam     1            1858                    2.05             20.4   \n",
       "1      Sydney     2            2636                    1.58             29.0   \n",
       "2      Vienna     3            1884                    2.08             20.1   \n",
       "3   Stockholm     4            1821                    1.84             20.6   \n",
       "4  Copenhagen     5            1630                    2.34             19.7   \n",
       "\n",
       "   life_expectancy  pollution_index  avg_hours_worked  happiness_levels  \\\n",
       "0             81.2            30.93              1434              7.44   \n",
       "1             82.1            26.86              1712              7.22   \n",
       "2             81.0            17.33              1501              7.29   \n",
       "3             81.8            19.63              1452              7.35   \n",
       "4             79.8            21.24              1380              7.64   \n",
       "\n",
       "   outdoor_activities  takeout_places  gym_cost_usd rank_tiers  \n",
       "0                 422            1048         37.34  rank_1-11  \n",
       "1                 406            1103         44.58  rank_1-11  \n",
       "2                 132            1008         27.54  rank_1-11  \n",
       "3                 129             598         39.92  rank_1-11  \n",
       "4                 154             523         34.81  rank_1-11  "
      ]
     },
     "execution_count": 53,
     "metadata": {},
     "output_type": "execute_result"
    }
   ],
   "source": [
    "df.head()"
   ]
  },
  {
   "cell_type": "markdown",
   "id": "3f41eecb-b60d-4fe2-897d-1fb5b8dee352",
   "metadata": {},
   "source": [
    "#### Data Types"
   ]
  },
  {
   "cell_type": "code",
   "execution_count": 54,
   "id": "b49ad3a8-0c43-483d-ad29-4e4038b7e70a",
   "metadata": {},
   "outputs": [
    {
     "data": {
      "text/plain": [
       "city                        object\n",
       "rank                         int64\n",
       "sunshine_hours               int32\n",
       "bottled_water_cost_usd     float64\n",
       "obesity_percent            float64\n",
       "life_expectancy            float64\n",
       "pollution_index            float64\n",
       "avg_hours_worked             int32\n",
       "happiness_levels           float64\n",
       "outdoor_activities           int64\n",
       "takeout_places               int64\n",
       "gym_cost_usd               float64\n",
       "rank_tiers                category\n",
       "dtype: object"
      ]
     },
     "execution_count": 54,
     "metadata": {},
     "output_type": "execute_result"
    }
   ],
   "source": [
    "df.dtypes"
   ]
  },
  {
   "cell_type": "markdown",
   "id": "d7b27802-a000-423d-be93-6b126206da46",
   "metadata": {},
   "source": [
    "#### Missing Data Information"
   ]
  },
  {
   "cell_type": "code",
   "execution_count": 55,
   "id": "004bb3a5-d8aa-4f13-865d-ff7fd4fa888c",
   "metadata": {},
   "outputs": [
    {
     "name": "stdout",
     "output_type": "stream",
     "text": [
      "city\n",
      "city\n",
      "False    44\n",
      "Name: count, dtype: int64\n",
      "\n",
      "rank\n",
      "rank\n",
      "False    44\n",
      "Name: count, dtype: int64\n",
      "\n",
      "sunshine_hours\n",
      "sunshine_hours\n",
      "False    44\n",
      "Name: count, dtype: int64\n",
      "\n",
      "bottled_water_cost_usd\n",
      "bottled_water_cost_usd\n",
      "False    44\n",
      "Name: count, dtype: int64\n",
      "\n",
      "obesity_percent\n",
      "obesity_percent\n",
      "False    44\n",
      "Name: count, dtype: int64\n",
      "\n",
      "life_expectancy\n",
      "life_expectancy\n",
      "False    44\n",
      "Name: count, dtype: int64\n",
      "\n",
      "pollution_index\n",
      "pollution_index\n",
      "False    44\n",
      "Name: count, dtype: int64\n",
      "\n",
      "avg_hours_worked\n",
      "avg_hours_worked\n",
      "False    44\n",
      "Name: count, dtype: int64\n",
      "\n",
      "happiness_levels\n",
      "happiness_levels\n",
      "False    44\n",
      "Name: count, dtype: int64\n",
      "\n",
      "outdoor_activities\n",
      "outdoor_activities\n",
      "False    44\n",
      "Name: count, dtype: int64\n",
      "\n",
      "takeout_places\n",
      "takeout_places\n",
      "False    44\n",
      "Name: count, dtype: int64\n",
      "\n",
      "gym_cost_usd\n",
      "gym_cost_usd\n",
      "False    44\n",
      "Name: count, dtype: int64\n",
      "\n",
      "rank_tiers\n",
      "rank_tiers\n",
      "False    44\n",
      "Name: count, dtype: int64\n",
      "\n"
     ]
    }
   ],
   "source": [
    "new_df_missing_values = df.isnull()\n",
    "for column in new_df_missing_values.columns.values.tolist():\n",
    "    print(column)\n",
    "    print(new_df_missing_values[column].value_counts())\n",
    "    print()"
   ]
  },
  {
   "cell_type": "markdown",
   "id": "71aadf30-9db5-40d3-9ccc-060a9342443c",
   "metadata": {},
   "source": [
    "## Statistical Overview"
   ]
  },
  {
   "cell_type": "code",
   "execution_count": 56,
   "id": "15b24b9f-45a3-4559-b65e-521a0608441e",
   "metadata": {},
   "outputs": [
    {
     "data": {
      "text/html": [
       "<div>\n",
       "<style scoped>\n",
       "    .dataframe tbody tr th:only-of-type {\n",
       "        vertical-align: middle;\n",
       "    }\n",
       "\n",
       "    .dataframe tbody tr th {\n",
       "        vertical-align: top;\n",
       "    }\n",
       "\n",
       "    .dataframe thead th {\n",
       "        text-align: right;\n",
       "    }\n",
       "</style>\n",
       "<table border=\"1\" class=\"dataframe\">\n",
       "  <thead>\n",
       "    <tr style=\"text-align: right;\">\n",
       "      <th></th>\n",
       "      <th>rank</th>\n",
       "      <th>sunshine_hours</th>\n",
       "      <th>bottled_water_cost_usd</th>\n",
       "      <th>obesity_percent</th>\n",
       "      <th>life_expectancy</th>\n",
       "      <th>pollution_index</th>\n",
       "      <th>avg_hours_worked</th>\n",
       "      <th>happiness_levels</th>\n",
       "      <th>outdoor_activities</th>\n",
       "      <th>takeout_places</th>\n",
       "      <th>gym_cost_usd</th>\n",
       "    </tr>\n",
       "  </thead>\n",
       "  <tbody>\n",
       "    <tr>\n",
       "      <th>count</th>\n",
       "      <td>44.000000</td>\n",
       "      <td>44.000000</td>\n",
       "      <td>44.000000</td>\n",
       "      <td>44.00000</td>\n",
       "      <td>44.00000</td>\n",
       "      <td>44.000000</td>\n",
       "      <td>44.000000</td>\n",
       "      <td>44.000000</td>\n",
       "      <td>44.000000</td>\n",
       "      <td>44.000000</td>\n",
       "      <td>44.000000</td>\n",
       "    </tr>\n",
       "    <tr>\n",
       "      <th>mean</th>\n",
       "      <td>22.500000</td>\n",
       "      <td>2245.840909</td>\n",
       "      <td>1.255000</td>\n",
       "      <td>21.92500</td>\n",
       "      <td>78.17500</td>\n",
       "      <td>51.122326</td>\n",
       "      <td>1672.681818</td>\n",
       "      <td>6.435000</td>\n",
       "      <td>213.977273</td>\n",
       "      <td>1443.113636</td>\n",
       "      <td>43.249545</td>\n",
       "    </tr>\n",
       "    <tr>\n",
       "      <th>std</th>\n",
       "      <td>12.845233</td>\n",
       "      <td>560.767205</td>\n",
       "      <td>0.768779</td>\n",
       "      <td>10.19567</td>\n",
       "      <td>5.30437</td>\n",
       "      <td>21.600553</td>\n",
       "      <td>154.957875</td>\n",
       "      <td>0.991202</td>\n",
       "      <td>127.190297</td>\n",
       "      <td>1388.803270</td>\n",
       "      <td>16.057343</td>\n",
       "    </tr>\n",
       "    <tr>\n",
       "      <th>min</th>\n",
       "      <td>1.000000</td>\n",
       "      <td>1405.000000</td>\n",
       "      <td>0.160000</td>\n",
       "      <td>3.90000</td>\n",
       "      <td>56.30000</td>\n",
       "      <td>13.080000</td>\n",
       "      <td>1380.000000</td>\n",
       "      <td>3.570000</td>\n",
       "      <td>23.000000</td>\n",
       "      <td>250.000000</td>\n",
       "      <td>17.190000</td>\n",
       "    </tr>\n",
       "    <tr>\n",
       "      <th>25%</th>\n",
       "      <td>11.750000</td>\n",
       "      <td>1809.750000</td>\n",
       "      <td>0.610000</td>\n",
       "      <td>19.50000</td>\n",
       "      <td>75.40000</td>\n",
       "      <td>36.067500</td>\n",
       "      <td>1576.500000</td>\n",
       "      <td>5.870000</td>\n",
       "      <td>125.250000</td>\n",
       "      <td>548.000000</td>\n",
       "      <td>33.502500</td>\n",
       "    </tr>\n",
       "    <tr>\n",
       "      <th>50%</th>\n",
       "      <td>22.500000</td>\n",
       "      <td>2142.000000</td>\n",
       "      <td>1.275000</td>\n",
       "      <td>22.30000</td>\n",
       "      <td>80.40000</td>\n",
       "      <td>51.881163</td>\n",
       "      <td>1672.000000</td>\n",
       "      <td>6.900000</td>\n",
       "      <td>189.500000</td>\n",
       "      <td>998.000000</td>\n",
       "      <td>39.940000</td>\n",
       "    </tr>\n",
       "    <tr>\n",
       "      <th>75%</th>\n",
       "      <td>33.250000</td>\n",
       "      <td>2626.500000</td>\n",
       "      <td>1.710000</td>\n",
       "      <td>29.00000</td>\n",
       "      <td>81.80000</td>\n",
       "      <td>66.350000</td>\n",
       "      <td>1773.750000</td>\n",
       "      <td>7.175000</td>\n",
       "      <td>288.250000</td>\n",
       "      <td>1674.250000</td>\n",
       "      <td>50.515000</td>\n",
       "    </tr>\n",
       "    <tr>\n",
       "      <th>max</th>\n",
       "      <td>44.000000</td>\n",
       "      <td>3542.000000</td>\n",
       "      <td>3.420000</td>\n",
       "      <td>36.20000</td>\n",
       "      <td>83.20000</td>\n",
       "      <td>91.740000</td>\n",
       "      <td>2137.000000</td>\n",
       "      <td>7.800000</td>\n",
       "      <td>585.000000</td>\n",
       "      <td>6417.000000</td>\n",
       "      <td>78.230000</td>\n",
       "    </tr>\n",
       "  </tbody>\n",
       "</table>\n",
       "</div>"
      ],
      "text/plain": [
       "            rank  sunshine_hours  bottled_water_cost_usd  obesity_percent  \\\n",
       "count  44.000000       44.000000               44.000000         44.00000   \n",
       "mean   22.500000     2245.840909                1.255000         21.92500   \n",
       "std    12.845233      560.767205                0.768779         10.19567   \n",
       "min     1.000000     1405.000000                0.160000          3.90000   \n",
       "25%    11.750000     1809.750000                0.610000         19.50000   \n",
       "50%    22.500000     2142.000000                1.275000         22.30000   \n",
       "75%    33.250000     2626.500000                1.710000         29.00000   \n",
       "max    44.000000     3542.000000                3.420000         36.20000   \n",
       "\n",
       "       life_expectancy  pollution_index  avg_hours_worked  happiness_levels  \\\n",
       "count         44.00000        44.000000         44.000000         44.000000   \n",
       "mean          78.17500        51.122326       1672.681818          6.435000   \n",
       "std            5.30437        21.600553        154.957875          0.991202   \n",
       "min           56.30000        13.080000       1380.000000          3.570000   \n",
       "25%           75.40000        36.067500       1576.500000          5.870000   \n",
       "50%           80.40000        51.881163       1672.000000          6.900000   \n",
       "75%           81.80000        66.350000       1773.750000          7.175000   \n",
       "max           83.20000        91.740000       2137.000000          7.800000   \n",
       "\n",
       "       outdoor_activities  takeout_places  gym_cost_usd  \n",
       "count           44.000000       44.000000     44.000000  \n",
       "mean           213.977273     1443.113636     43.249545  \n",
       "std            127.190297     1388.803270     16.057343  \n",
       "min             23.000000      250.000000     17.190000  \n",
       "25%            125.250000      548.000000     33.502500  \n",
       "50%            189.500000      998.000000     39.940000  \n",
       "75%            288.250000     1674.250000     50.515000  \n",
       "max            585.000000     6417.000000     78.230000  "
      ]
     },
     "execution_count": 56,
     "metadata": {},
     "output_type": "execute_result"
    }
   ],
   "source": [
    "df.describe()"
   ]
  },
  {
   "cell_type": "markdown",
   "id": "8c1db073-56f2-497b-ab8c-13a96610c461",
   "metadata": {},
   "source": [
    "## Life Expectancy Bar Plot"
   ]
  },
  {
   "cell_type": "markdown",
   "id": "e2f6bf22-d544-45a7-8d75-ba5ebe7801fc",
   "metadata": {},
   "source": [
    "A good way to find the defining characteristics of a high-ranking city is to compare the average values of different variables whithin each ranking tier"
   ]
  },
  {
   "cell_type": "code",
   "execution_count": 72,
   "id": "a9f9adaf-95e0-4df3-a105-1e2ea92c5ca9",
   "metadata": {},
   "outputs": [
    {
     "data": {
      "text/plain": [
       "<Axes: xlabel='rank_tiers', ylabel='life_expectancy'>"
      ]
     },
     "execution_count": 72,
     "metadata": {},
     "output_type": "execute_result"
    },
    {
     "data": {
      "image/png": "[encoded data removed]",
      "text/plain": [
       "<Figure size 640x480 with 1 Axes>"
      ]
     },
     "metadata": {},
     "output_type": "display_data"
    }
   ],
   "source": [
    "sns.barplot(data=df, x=df[\"rank_tiers\"], y=df[\"life_expectancy\"], errorbar=None)"
   ]
  },
  {
   "cell_type": "markdown",
   "id": "e2a73255-25d8-4b12-be73-6a071ea33bde",
   "metadata": {},
   "source": [
    "Based on this plot life expectancy is not a defining characteristic because there is little difference between the rank tiers"
   ]
  },
  {
   "cell_type": "markdown",
   "id": "53cd6dab-1d64-4863-aed5-fdb67d642787",
   "metadata": {},
   "source": [
    "## Obesity Percentage Bar Plot"
   ]
  },
  {
   "cell_type": "code",
   "execution_count": 71,
   "id": "506b5299-2a75-422c-b301-09a891c9f18a",
   "metadata": {},
   "outputs": [
    {
     "data": {
      "text/plain": [
       "<Axes: xlabel='rank_tiers', ylabel='obesity_percent'>"
      ]
     },
     "execution_count": 71,
     "metadata": {},
     "output_type": "execute_result"
    },
    {
     "data": {
      "image/png": "[encoded data removed]",
      "text/plain": [
       "<Figure size 640x480 with 1 Axes>"
      ]
     },
     "metadata": {},
     "output_type": "display_data"
    }
   ],
   "source": [
    "sns.barplot(data=df, x=df[\"rank_tiers\"], y=df[\"obesity_percent\"], errorbar=None)"
   ]
  },
  {
   "cell_type": "markdown",
   "id": "a2ec2f44-acee-428e-9c29-39ca9796335f",
   "metadata": {},
   "source": [
    "Based on this plot obesity percentage is a defining characteristic because the low ranking cities have much higher percentage than high ranking cities"
   ]
  },
  {
   "cell_type": "markdown",
   "id": "1c580e25-4293-4e12-a18d-65d99c80e49b",
   "metadata": {},
   "source": [
    "## Happiness Levels Bar Plot"
   ]
  },
  {
   "cell_type": "code",
   "execution_count": 73,
   "id": "5ca63b12-430d-4b33-8d0f-e3b49d281358",
   "metadata": {},
   "outputs": [
    {
     "data": {
      "text/plain": [
       "<Axes: xlabel='rank_tiers', ylabel='happiness_levels'>"
      ]
     },
     "execution_count": 73,
     "metadata": {},
     "output_type": "execute_result"
    },
    {
     "data": {
      "image/png": "[encoded data removed]",
      "text/plain": [
       "<Figure size 640x480 with 1 Axes>"
      ]
     },
     "metadata": {},
     "output_type": "display_data"
    }
   ],
   "source": [
    "sns.barplot(data=df, x=df[\"rank_tiers\"], y=df[\"happiness_levels\"], errorbar=None)"
   ]
  },
  {
   "cell_type": "markdown",
   "id": "be3768ad-e8b3-49e8-89da-be19b38c706b",
   "metadata": {},
   "source": [
    "## Outdoor Activities Bar Plot"
   ]
  },
  {
   "cell_type": "code",
   "execution_count": 75,
   "id": "8161ad20-6cef-474b-8fec-27dc643d67b4",
   "metadata": {},
   "outputs": [
    {
     "data": {
      "text/plain": [
       "<Axes: xlabel='rank_tiers', ylabel='outdoor_activities'>"
      ]
     },
     "execution_count": 75,
     "metadata": {},
     "output_type": "execute_result"
    },
    {
     "data": {
      "image/png": "[encoded data removed]",
      "text/plain": [
       "<Figure size 640x480 with 1 Axes>"
      ]
     },
     "metadata": {},
     "output_type": "display_data"
    }
   ],
   "source": [
    "sns.barplot(data=df, x=df[\"rank_tiers\"], y=df[\"outdoor_activities\"], errorbar=None)"
   ]
  },
  {
   "cell_type": "markdown",
   "id": "9a98b70e-ad95-4a1d-8c0f-edc3ffc1f2c0",
   "metadata": {},
   "source": [
    "## Pollution Index Bar Plot"
   ]
  },
  {
   "cell_type": "code",
   "execution_count": 76,
   "id": "0452196b-f6db-4a8f-8455-ccac20dcfc20",
   "metadata": {},
   "outputs": [
    {
     "data": {
      "text/plain": [
       "<Axes: xlabel='rank_tiers', ylabel='pollution_index'>"
      ]
     },
     "execution_count": 76,
     "metadata": {},
     "output_type": "execute_result"
    },
    {
     "data": {
      "image/png": "[encoded data removed]",
      "text/plain": [
       "<Figure size 640x480 with 1 Axes>"
      ]
     },
     "metadata": {},
     "output_type": "display_data"
    }
   ],
   "source": [
    "sns.barplot(data=df, x=df[\"rank_tiers\"], y=df[\"pollution_index\"], errorbar=None)"
   ]
  },
  {
   "cell_type": "markdown",
   "id": "ef8b9d79-a9bf-45dd-a608-a558a8b8766b",
   "metadata": {},
   "source": [
    "## Average Hours Worked Bar Plot"
   ]
  },
  {
   "cell_type": "code",
   "execution_count": 80,
   "id": "0a15e187-27c5-4494-bae0-54118aa4962d",
   "metadata": {},
   "outputs": [
    {
     "data": {
      "text/plain": [
       "<Axes: xlabel='rank_tiers', ylabel='avg_hours_worked'>"
      ]
     },
     "execution_count": 80,
     "metadata": {},
     "output_type": "execute_result"
    },
    {
     "data": {
      "image/png": "[encoded data removed]",
      "text/plain": [
       "<Figure size 640x480 with 1 Axes>"
      ]
     },
     "metadata": {},
     "output_type": "display_data"
    }
   ],
   "source": [
    "sns.barplot(data=df, x=df[\"rank_tiers\"], y=df[\"avg_hours_worked\"], errorbar=None)"
   ]
  },
  {
   "cell_type": "markdown",
   "id": "ff0b41c7-f756-400a-bbc7-2b92ba068f92",
   "metadata": {},
   "source": [
    "## Sunshine Hours Bar Plot"
   ]
  },
  {
   "cell_type": "code",
   "execution_count": 78,
   "id": "d81e42a4-5899-4f1a-90dd-7c33b384c7ea",
   "metadata": {},
   "outputs": [
    {
     "data": {
      "text/plain": [
       "<Axes: xlabel='rank_tiers', ylabel='sunshine_hours'>"
      ]
     },
     "execution_count": 78,
     "metadata": {},
     "output_type": "execute_result"
    },
    {
     "data": {
      "image/png": "[encoded data removed]",
      "text/plain": [
       "<Figure size 640x480 with 1 Axes>"
      ]
     },
     "metadata": {},
     "output_type": "display_data"
    }
   ],
   "source": [
    "sns.barplot(data=df, x=df[\"rank_tiers\"], y=df[\"sunshine_hours\"], errorbar=None) "
   ]
  },
  {
   "cell_type": "markdown",
   "id": "dde8ef93-adc8-44f9-8bd0-ca9061913322",
   "metadata": {},
   "source": [
    "## Takeout Places Bar Plot"
   ]
  },
  {
   "cell_type": "code",
   "execution_count": 79,
   "id": "310063fa-15a9-47ba-bc05-c0164832bce4",
   "metadata": {},
   "outputs": [
    {
     "data": {
      "text/plain": [
       "<Axes: xlabel='rank_tiers', ylabel='takeout_places'>"
      ]
     },
     "execution_count": 79,
     "metadata": {},
     "output_type": "execute_result"
    },
    {
     "data": {
      "image/png": "[encoded data removed]",
      "text/plain": [
       "<Figure size 640x480 with 1 Axes>"
      ]
     },
     "metadata": {},
     "output_type": "display_data"
    }
   ],
   "source": [
    "sns.barplot(data=df, x=df[\"rank_tiers\"], y=df[\"takeout_places\"], errorbar=None)"
   ]
  },
  {
   "cell_type": "markdown",
   "id": "d64dcfe2-35f7-4d3a-a6e1-0239ee1d6499",
   "metadata": {},
   "source": [
    "## Bottled Water Cost Bar Plot"
   ]
  },
  {
   "cell_type": "code",
   "execution_count": 81,
   "id": "808d7e51-217c-4644-997a-494781bfc458",
   "metadata": {},
   "outputs": [
    {
     "data": {
      "text/plain": [
       "<Axes: xlabel='rank_tiers', ylabel='bottled_water_cost_usd'>"
      ]
     },
     "execution_count": 81,
     "metadata": {},
     "output_type": "execute_result"
    },
    {
     "data": {
      "image/png": "[encoded data removed]",
      "text/plain": [
       "<Figure size 640x480 with 1 Axes>"
      ]
     },
     "metadata": {},
     "output_type": "display_data"
    }
   ],
   "source": [
    "sns.barplot(data=df, x=df[\"rank_tiers\"], y=df[\"bottled_water_cost_usd\"], errorbar=None)"
   ]
  },
  {
   "cell_type": "markdown",
   "id": "651440ec-112f-4740-8fec-88e9f2e19528",
   "metadata": {},
   "source": [
    "## Cost of Gym Membership Bar Plot"
   ]
  },
  {
   "cell_type": "code",
   "execution_count": 82,
   "id": "c218c9ba-2259-412f-8a50-dbad014a5aa7",
   "metadata": {},
   "outputs": [
    {
     "data": {
      "text/plain": [
       "<Axes: xlabel='rank_tiers', ylabel='gym_cost_usd'>"
      ]
     },
     "execution_count": 82,
     "metadata": {},
     "output_type": "execute_result"
    },
    {
     "data": {
      "image/png": "[encoded data removed]",
      "text/plain": [
       "<Figure size 640x480 with 1 Axes>"
      ]
     },
     "metadata": {},
     "output_type": "display_data"
    }
   ],
   "source": [
    "sns.barplot(data=df, x=df[\"rank_tiers\"], y=df[\"gym_cost_usd\"], errorbar=None)"
   ]
  },
  {
   "cell_type": "markdown",
   "id": "d2096d1a-508f-45d7-b4ef-4a8c7d29edb3",
   "metadata": {},
   "source": [
    "## Bar Plot Conclusions"
   ]
  },
  {
   "cell_type": "markdown",
   "id": "5c9d5c50-acf4-4cf1-a1e1-7d627e89170b",
   "metadata": {},
   "source": [
    "Based on the bar plots, the characteristics that most separated high ranking cities from low ranking ones were:\n",
    "* Obesity Percentage\n",
    "* Pollution Index\n",
    "* Takeout Places"
   ]
  },
  {
   "cell_type": "markdown",
   "id": "416c96d0-dc30-4a0a-b982-665da3f3ab03",
   "metadata": {},
   "source": [
    "## Finding Correlation Between Variables"
   ]
  },
  {
   "cell_type": "code",
   "execution_count": null,
   "id": "4bed0c13-a121-4f95-a4b8-e0ed0b862d4e",
   "metadata": {},
   "outputs": [],
   "source": []
  }
 ],
 "metadata": {
  "kernelspec": {
   "display_name": "Python 3 (ipykernel)",
   "language": "python",
   "name": "python3"
  },
  "language_info": {
   "codemirror_mode": {
    "name": "ipython",
    "version": 3
   },
   "file_extension": ".py",
   "mimetype": "text/x-python",
   "name": "python",
   "nbconvert_exporter": "python",
   "pygments_lexer": "ipython3",
   "version": "3.11.3"
  },
  "toc-showcode": false
 },
 "nbformat": 4,
 "nbformat_minor": 5
}
